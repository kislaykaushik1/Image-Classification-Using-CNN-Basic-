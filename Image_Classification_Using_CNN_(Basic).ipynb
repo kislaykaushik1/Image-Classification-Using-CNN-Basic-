{
  "nbformat": 4,
  "nbformat_minor": 0,
  "metadata": {
    "colab": {
      "name": "Image Classification Using CNN (Basic).ipynb",
      "provenance": [],
      "authorship_tag": "ABX9TyOQgNKVsdxBqT3Z6m+YLHUj",
      "include_colab_link": true
    },
    "kernelspec": {
      "name": "python3",
      "display_name": "Python 3"
    },
    "language_info": {
      "name": "python"
    }
  },
  "cells": [
    {
      "cell_type": "markdown",
      "metadata": {
        "id": "view-in-github",
        "colab_type": "text"
      },
      "source": [
        "<a href=\"https://colab.research.google.com/github/kislaykaushik1/Image-Classification-Using-CNN-Basic-/blob/main/Image_Classification_Using_CNN_(Basic).ipynb\" target=\"_parent\"><img src=\"https://colab.research.google.com/assets/colab-badge.svg\" alt=\"Open In Colab\"/></a>"
      ]
    },
    {
      "cell_type": "code",
      "metadata": {
        "id": "ejxQ9zwVkzx9"
      },
      "source": [
        "import pandas as pd\n",
        "import numpy as np\n",
        "\n",
        "import tensorflow as tf\n",
        "from tensorflow.keras import models,datasets,layers\n",
        "import matplotlib.pyplot as plt"
      ],
      "execution_count": 1,
      "outputs": []
    },
    {
      "cell_type": "code",
      "metadata": {
        "id": "gnZFUfkak0Hh"
      },
      "source": [
        "(x_train,y_train),(x_test,y_test)=datasets.cifar10.load_data()"
      ],
      "execution_count": 2,
      "outputs": []
    },
    {
      "cell_type": "code",
      "metadata": {
        "colab": {
          "base_uri": "https://localhost:8080/",
          "height": 283
        },
        "id": "2X3cTE_1m1CU",
        "outputId": "8e21419a-3c06-4e78-e31d-16bbc21fedb7"
      },
      "source": [
        "plt.imshow(x_train[0])"
      ],
      "execution_count": 3,
      "outputs": [
        {
          "output_type": "execute_result",
          "data": {
            "text/plain": [
              "<matplotlib.image.AxesImage at 0x7fc06442a8d0>"
            ]
          },
          "metadata": {
            "tags": []
          },
          "execution_count": 3
        },
        {
          "output_type": "display_data",
          "data": {
            "image/png": "[encoded data removed]",
            "text/plain": [
              "<Figure size 432x288 with 1 Axes>"
            ]
          },
          "metadata": {
            "tags": [],
            "needs_background": "light"
          }
        }
      ]
    },
    {
      "cell_type": "code",
      "metadata": {
        "colab": {
          "base_uri": "https://localhost:8080/",
          "height": 177
        },
        "id": "PrpkXiWNosvH",
        "outputId": "019f7571-19bb-47a3-c7d3-d5fbd6aeb991"
      },
      "source": [
        "plt.figure(figsize=(15,2))\n",
        "plt.imshow(x_train[0])"
      ],
      "execution_count": 4,
      "outputs": [
        {
          "output_type": "execute_result",
          "data": {
            "text/plain": [
              "<matplotlib.image.AxesImage at 0x7fc064c81c10>"
            ]
          },
          "metadata": {
            "tags": []
          },
          "execution_count": 4
        },
        {
          "output_type": "display_data",
          "data": {
            "image/png": "[encoded data removed]",
            "text/plain": [
              "<Figure size 1080x144 with 1 Axes>"
            ]
          },
          "metadata": {
            "tags": [],
            "needs_background": "light"
          }
        }
      ]
    },
    {
      "cell_type": "code",
      "metadata": {
        "colab": {
          "base_uri": "https://localhost:8080/"
        },
        "id": "HW6rEyR-r_Ls",
        "outputId": "a1353429-8b74-45ec-bba5-307e78c723bd"
      },
      "source": [
        "y_train.shape"
      ],
      "execution_count": 5,
      "outputs": [
        {
          "output_type": "execute_result",
          "data": {
            "text/plain": [
              "(50000, 1)"
            ]
          },
          "metadata": {
            "tags": []
          },
          "execution_count": 5
        }
      ]
    },
    {
      "cell_type": "code",
      "metadata": {
        "id": "2ZHh1IQlrTcS"
      },
      "source": [
        "#as we need direct category so we dont need 2d array so we will reshape it to 1d array\n",
        "y_train=y_train.reshape(-1,)"
      ],
      "execution_count": 6,
      "outputs": []
    },
    {
      "cell_type": "code",
      "metadata": {
        "id": "EBo60Q8Wo88_"
      },
      "source": [
        "#normalizing\n",
        "x_train=x_train/255\n",
        "x_test=x_test/255"
      ],
      "execution_count": 7,
      "outputs": []
    },
    {
      "cell_type": "code",
      "metadata": {
        "colab": {
          "base_uri": "https://localhost:8080/"
        },
        "id": "LRqLCqdEpQv_",
        "outputId": "edb9edd7-61d6-4542-c63c-3757de518b98"
      },
      "source": [
        "cnn=models.Sequential([\n",
        "                       layers.Conv2D(filters=32,kernel_size=(3,3),activation='relu',input_shape=(32,32,3)),\n",
        "                       layers.MaxPooling2D((3,3)),\n",
        "\n",
        "                       layers.Conv2D(filters=64,kernel_size=(3,3),activation='relu'),\n",
        "                       layers.MaxPooling2D((2,2)),\n",
        "\n",
        "                        layers.Conv2D(filters=128,kernel_size=(3,3),activation='relu'),\n",
        "                       layers.MaxPooling2D((2,2)),\n",
        "\n",
        "                       layers.Flatten(),\n",
        "                       layers.Dense(128,activation='relu'),\n",
        "                       layers.Dense(10,activation='softmax')\n",
        "                       \n",
        "])\n",
        "cnn.compile(\n",
        "    optimizer='adam',\n",
        "    loss='sparse_categorical_crossentropy',\n",
        "    metrics=['accuracy']\n",
        ")\n",
        "cnn.fit(x_train,y_train,epochs=15)"
      ],
      "execution_count": 8,
      "outputs": [
        {
          "output_type": "stream",
          "text": [
            "Epoch 1/15\n",
            "1563/1563 [==============================] - 45s 28ms/step - loss: 1.5407 - accuracy: 0.4329\n",
            "Epoch 2/15\n",
            "1563/1563 [==============================] - 44s 28ms/step - loss: 1.1645 - accuracy: 0.5842\n",
            "Epoch 3/15\n",
            "1563/1563 [==============================] - 46s 30ms/step - loss: 0.9954 - accuracy: 0.6488\n",
            "Epoch 4/15\n",
            "1563/1563 [==============================] - 46s 30ms/step - loss: 0.8915 - accuracy: 0.6860\n",
            "Epoch 5/15\n",
            "1563/1563 [==============================] - 48s 30ms/step - loss: 0.8078 - accuracy: 0.7181\n",
            "Epoch 6/15\n",
            "1563/1563 [==============================] - 46s 30ms/step - loss: 0.7488 - accuracy: 0.7385\n",
            "Epoch 7/15\n",
            "1563/1563 [==============================] - 47s 30ms/step - loss: 0.6879 - accuracy: 0.7564\n",
            "Epoch 8/15\n",
            "1563/1563 [==============================] - 47s 30ms/step - loss: 0.6370 - accuracy: 0.7769\n",
            "Epoch 9/15\n",
            "1563/1563 [==============================] - 46s 29ms/step - loss: 0.5957 - accuracy: 0.7899\n",
            "Epoch 10/15\n",
            "1563/1563 [==============================] - 45s 29ms/step - loss: 0.5559 - accuracy: 0.8040\n",
            "Epoch 11/15\n",
            "1563/1563 [==============================] - 47s 30ms/step - loss: 0.5181 - accuracy: 0.8165\n",
            "Epoch 12/15\n",
            "1563/1563 [==============================] - 47s 30ms/step - loss: 0.4893 - accuracy: 0.8268\n",
            "Epoch 13/15\n",
            "1563/1563 [==============================] - 49s 31ms/step - loss: 0.4594 - accuracy: 0.8374\n",
            "Epoch 14/15\n",
            "1563/1563 [==============================] - 47s 30ms/step - loss: 0.4294 - accuracy: 0.8456\n",
            "Epoch 15/15\n",
            "1563/1563 [==============================] - 47s 30ms/step - loss: 0.4016 - accuracy: 0.8573\n"
          ],
          "name": "stdout"
        },
        {
          "output_type": "execute_result",
          "data": {
            "text/plain": [
              "<tensorflow.python.keras.callbacks.History at 0x7fc06068eb10>"
            ]
          },
          "metadata": {
            "tags": []
          },
          "execution_count": 8
        }
      ]
    },
    {
      "cell_type": "code",
      "metadata": {
        "colab": {
          "base_uri": "https://localhost:8080/"
        },
        "id": "go3vUV8tuFId",
        "outputId": "034183bd-b758-404e-d4b4-7ea0d6bece1f"
      },
      "source": [
        "cnn.evaluate(x_test,y_test)"
      ],
      "execution_count": 9,
      "outputs": [
        {
          "output_type": "stream",
          "text": [
            "313/313 [==============================] - 3s 9ms/step - loss: 1.0559 - accuracy: 0.7020\n"
          ],
          "name": "stdout"
        },
        {
          "output_type": "execute_result",
          "data": {
            "text/plain": [
              "[1.0559228658676147, 0.7020000219345093]"
            ]
          },
          "metadata": {
            "tags": []
          },
          "execution_count": 9
        }
      ]
    },
    {
      "cell_type": "code",
      "metadata": {
        "colab": {
          "base_uri": "https://localhost:8080/"
        },
        "id": "0OZopR790Qq5",
        "outputId": "8ebbf6df-e0c7-4f5a-ccdd-7b856d88bcff"
      },
      "source": [
        "#predict \n",
        "y_pred=cnn.predict(x_test)\n",
        "y_pred[:5]"
      ],
      "execution_count": 10,
      "outputs": [
        {
          "output_type": "execute_result",
          "data": {
            "text/plain": [
              "array([[1.6834469e-05, 2.0371134e-08, 3.1463334e-03, 9.9065548e-01,\n",
              "        2.6143687e-06, 2.4030022e-03, 2.6840209e-03, 7.7991077e-04,\n",
              "        3.1156559e-04, 2.1587864e-07],\n",
              "       [6.6870684e-04, 3.3531733e-02, 1.1304698e-07, 1.7034354e-06,\n",
              "        7.8150816e-07, 2.6267295e-09, 7.1031492e-09, 2.6548820e-08,\n",
              "        9.6444792e-01, 1.3489448e-03],\n",
              "       [1.4099720e-01, 2.8742997e-03, 1.3815637e-02, 1.0286796e-02,\n",
              "        6.0465658e-04, 5.1739934e-04, 1.6847561e-03, 1.0789670e-03,\n",
              "        8.1879151e-01, 9.3488861e-03],\n",
              "       [9.8535919e-01, 1.0802486e-03, 1.2454384e-03, 4.0793247e-03,\n",
              "        3.1287004e-03, 1.0240213e-04, 1.1844060e-04, 8.4964122e-06,\n",
              "        4.5275409e-03, 3.5024266e-04],\n",
              "       [1.2002999e-08, 1.7092662e-08, 5.4433402e-03, 3.2968710e-03,\n",
              "        7.3755361e-02, 3.9725663e-05, 9.1746455e-01, 2.0787995e-08,\n",
              "        3.0363115e-08, 2.2731197e-09]], dtype=float32)"
            ]
          },
          "metadata": {
            "tags": []
          },
          "execution_count": 10
        }
      ]
    },
    {
      "cell_type": "code",
      "metadata": {
        "colab": {
          "base_uri": "https://localhost:8080/"
        },
        "id": "syKP7LcD3YJj",
        "outputId": "f2238271-933c-4e7b-8791-8c86ce28dde9"
      },
      "source": [
        "#as we have to find the max element in each prediction\n",
        "y_img=[np.argmax(element) for element in y_pred]\n",
        "y_img[:10]"
      ],
      "execution_count": 16,
      "outputs": [
        {
          "output_type": "execute_result",
          "data": {
            "text/plain": [
              "[3, 8, 8, 0, 6, 6, 3, 6, 3, 1]"
            ]
          },
          "metadata": {
            "tags": []
          },
          "execution_count": 16
        }
      ]
    },
    {
      "cell_type": "code",
      "metadata": {
        "colab": {
          "base_uri": "https://localhost:8080/"
        },
        "id": "FRwL4lGiA2n3",
        "outputId": "043d1a1d-6cfb-4969-be3b-0655653b74d6"
      },
      "source": [
        "#lets compare\n",
        "y_test[:10]"
      ],
      "execution_count": 15,
      "outputs": [
        {
          "output_type": "execute_result",
          "data": {
            "text/plain": [
              "array([[3],\n",
              "       [8],\n",
              "       [8],\n",
              "       [0],\n",
              "       [6],\n",
              "       [6],\n",
              "       [1],\n",
              "       [6],\n",
              "       [3],\n",
              "       [1]], dtype=uint8)"
            ]
          },
          "metadata": {
            "tags": []
          },
          "execution_count": 15
        }
      ]
    },
    {
      "cell_type": "code",
      "metadata": {
        "colab": {
          "base_uri": "https://localhost:8080/"
        },
        "id": "PS4sQ7oFBKm2",
        "outputId": "4001b97e-9248-4bed-e5a5-ff28ac5786ae"
      },
      "source": [
        "#lets check first 15 element\n",
        "for i in range (15):\n",
        "  if(y_test[i]==y_img[i]):\n",
        "    print(\"correct prediction \",i)\n",
        "  else:\n",
        "    print(\" wrong prediction  \",i)\n"
      ],
      "execution_count": 22,
      "outputs": [
        {
          "output_type": "stream",
          "text": [
            "correct prediction  0\n",
            "correct prediction  1\n",
            "correct prediction  2\n",
            "correct prediction  3\n",
            "correct prediction  4\n",
            "correct prediction  5\n",
            " wrong prediction   6\n",
            "correct prediction  7\n",
            "correct prediction  8\n",
            "correct prediction  9\n",
            " wrong prediction   10\n",
            "correct prediction  11\n",
            " wrong prediction   12\n",
            "correct prediction  13\n",
            "correct prediction  14\n"
          ],
          "name": "stdout"
        }
      ]
    },
    {
      "cell_type": "code",
      "metadata": {
        "id": "Z6mgkMf8AKNU"
      },
      "source": [
        "classes=['aeroplane','automobile','bird','cat','deer','dog','frog','horse','ship','truck']"
      ],
      "execution_count": 12,
      "outputs": []
    },
    {
      "cell_type": "code",
      "metadata": {
        "colab": {
          "base_uri": "https://localhost:8080/",
          "height": 283
        },
        "id": "51SB6y_ICnE5",
        "outputId": "0642fe21-0582-427f-d58e-43deea6dd162"
      },
      "source": [
        "#actual image \n",
        "plt.imshow(x_test[11])"
      ],
      "execution_count": 42,
      "outputs": [
        {
          "output_type": "execute_result",
          "data": {
            "text/plain": [
              "<matplotlib.image.AxesImage at 0x7fc051741750>"
            ]
          },
          "metadata": {
            "tags": []
          },
          "execution_count": 42
        },
        {
          "output_type": "display_data",
          "data": {
            "image/png": "[encoded data removed]",
            "text/plain": [
              "<Figure size 432x288 with 1 Axes>"
            ]
          },
          "metadata": {
            "tags": [],
            "needs_background": "light"
          }
        }
      ]
    },
    {
      "cell_type": "code",
      "metadata": {
        "colab": {
          "base_uri": "https://localhost:8080/",
          "height": 35
        },
        "id": "0ySj0W3I2cI7",
        "outputId": "27ec0a45-d157-4d44-de05-36f2acff8a38"
      },
      "source": [
        "#predicted \n",
        "classes[y_img[11]]"
      ],
      "execution_count": 43,
      "outputs": [
        {
          "output_type": "execute_result",
          "data": {
            "application/vnd.google.colaboratory.intrinsic+json": {
              "type": "string"
            },
            "text/plain": [
              "'truck'"
            ]
          },
          "metadata": {
            "tags": []
          },
          "execution_count": 43
        }
      ]
    },
    {
      "cell_type": "code",
      "metadata": {
        "colab": {
          "base_uri": "https://localhost:8080/"
        },
        "id": "8xmK5Lh22cN7",
        "outputId": "7025a953-2e7b-4d34-c0d7-80092dcc7f97"
      },
      "source": [
        "from sklearn.metrics import classification_report\n",
        "print(classification_report(y_test,y_img))"
      ],
      "execution_count": 13,
      "outputs": [
        {
          "output_type": "stream",
          "text": [
            "              precision    recall  f1-score   support\n",
            "\n",
            "           0       0.69      0.80      0.74      1000\n",
            "           1       0.79      0.85      0.82      1000\n",
            "           2       0.56      0.67      0.61      1000\n",
            "           3       0.49      0.61      0.54      1000\n",
            "           4       0.64      0.70      0.67      1000\n",
            "           5       0.77      0.42      0.54      1000\n",
            "           6       0.73      0.80      0.77      1000\n",
            "           7       0.78      0.72      0.75      1000\n",
            "           8       0.86      0.77      0.81      1000\n",
            "           9       0.89      0.67      0.76      1000\n",
            "\n",
            "    accuracy                           0.70     10000\n",
            "   macro avg       0.72      0.70      0.70     10000\n",
            "weighted avg       0.72      0.70      0.70     10000\n",
            "\n"
          ],
          "name": "stdout"
        }
      ]
    },
    {
      "cell_type": "code",
      "metadata": {
        "id": "N0ITvzs62cFl"
      },
      "source": [
        ""
      ],
      "execution_count": null,
      "outputs": []
    }
  ]
}